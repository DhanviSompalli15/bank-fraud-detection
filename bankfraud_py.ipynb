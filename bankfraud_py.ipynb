{
  "nbformat": 4,
  "nbformat_minor": 0,
  "metadata": {
    "colab": {
      "provenance": [],
      "authorship_tag": "ABX9TyNJzTqPL82LqVkG8bBZvYMp",
      "include_colab_link": true
    },
    "kernelspec": {
      "name": "python3",
      "display_name": "Python 3"
    },
    "language_info": {
      "name": "python"
    }
  },
  "cells": [
    {
      "cell_type": "markdown",
      "metadata": {
        "id": "view-in-github",
        "colab_type": "text"
      },
      "source": [
        "<a href=\"https://colab.research.google.com/github/DhanviSompalli15/bank-fraud-detection/blob/main/bankfraud_py.ipynb\" target=\"_parent\"><img src=\"https://colab.research.google.com/assets/colab-badge.svg\" alt=\"Open In Colab\"/></a>"
      ]
    },
    {
      "cell_type": "code",
      "source": [
        "!ls"
      ],
      "metadata": {
        "colab": {
          "base_uri": "https://localhost:8080/"
        },
        "id": "9Ww8F4k5FL9P",
        "outputId": "59d9d9cf-40af-4e96-8438-4159f2d78c53"
      },
      "execution_count": null,
      "outputs": [
        {
          "output_type": "stream",
          "name": "stdout",
          "text": [
            "sample_data\n"
          ]
        }
      ]
    },
    {
      "cell_type": "code",
      "source": [
        "# Install required packages\n",
        "!pip install numpy pandas scikit-learn -q\n",
        "\n",
        "import numpy as np\n",
        "import pandas as pd\n",
        "from sklearn.model_selection import train_test_split\n",
        "from sklearn.ensemble import RandomForestClassifier\n",
        "from sklearn.metrics import classification_report, confusion_matrix\n",
        "import pickle\n",
        "\n",
        "# Generate synthetic dataset\n",
        "np.random.seed(42)\n",
        "def generate_synthetic_data(n_samples=10000):\n",
        "    data = {\n",
        "        'transaction_id': range(1, n_samples + 1),\n",
        "        'amount': np.random.uniform(10, 10000, n_samples),\n",
        "        'transaction_time': np.random.uniform(0, 24, n_samples),\n",
        "        'customer_age': np.random.randint(18, 80, n_samples),\n",
        "        'account_balance': np.random.uniform(0, 50000, n_samples),\n",
        "        'num_transactions_last_hour': np.random.randint(1, 10, n_samples),\n",
        "        'is_online': np.random.choice([0, 1], n_samples, p=[0.4, 0.6]),\n",
        "        'is_fraud': np.random.choice([0, 1], n_samples, p=[0.98, 0.02])\n",
        "    }\n",
        "    df = pd.DataFrame(data)\n",
        "    fraud_idx = df['is_fraud'] == 1\n",
        "    df.loc[fraud_idx, 'amount'] *= np.random.uniform(1.5, 3, fraud_idx.sum())\n",
        "    df.loc[fraud_idx, 'num_transactions_last_hour'] += np.random.randint(2, 5, fraud_idx.sum())\n",
        "    df.loc[fraud_idx, 'is_online'] = 1\n",
        "    return df\n",
        "\n",
        "# Create and train model\n",
        "df = generate_synthetic_data()\n",
        "X = df[['amount', 'transaction_time', 'customer_age', 'account_balance',\n",
        "        'num_transactions_last_hour', 'is_online']]\n",
        "y = df['is_fraud']\n",
        "X_train, X_test, y_train, y_test = train_test_split(X, y, test_size=0.3, random_state=42)\n",
        "model = RandomForestClassifier(n_estimators=100, random_state=42)\n",
        "model.fit(X_train, y_train)\n",
        "y_pred = model.predict(X_test)\n",
        "print(\"Classification Report:\")\n",
        "print(classification_report(y_test, y_pred))\n",
        "print(\"Confusion Matrix:\")\n",
        "print(confusion_matrix(y_test, y_pred))\n",
        "\n",
        "# Save the model\n",
        "with open('fraud_detection_model.pkl', 'wb') as f:\n",
        "    pickle.dump(model, f)\n",
        "print(\"Model saved as fraud_detection_model.pkl\")"
      ],
      "metadata": {
        "colab": {
          "base_uri": "https://localhost:8080/"
        },
        "id": "C_yBcVPuHNUN",
        "outputId": "1ed72f1b-8390-4386-c064-9ca7a9f681bc"
      },
      "execution_count": null,
      "outputs": [
        {
          "output_type": "stream",
          "name": "stdout",
          "text": [
            "Classification Report:\n",
            "              precision    recall  f1-score   support\n",
            "\n",
            "           0       0.99      1.00      1.00      2944\n",
            "           1       1.00      0.62      0.77        56\n",
            "\n",
            "    accuracy                           0.99      3000\n",
            "   macro avg       1.00      0.81      0.88      3000\n",
            "weighted avg       0.99      0.99      0.99      3000\n",
            "\n",
            "Confusion Matrix:\n",
            "[[2944    0]\n",
            " [  21   35]]\n",
            "Model saved as fraud_detection_model.pkl\n"
          ]
        }
      ]
    },
    {
      "cell_type": "code",
      "source": [
        "import pickle\n",
        "import numpy as np\n",
        "\n",
        "# Load the model\n",
        "with open('fraud_detection_model.pkl', 'rb') as f:\n",
        "    model = pickle.load(f)\n",
        "\n",
        "# Function to get prediction\n",
        "def predict_fraud(amount, transaction_time, customer_age, account_balance,\n",
        "                 num_transactions, is_online):\n",
        "    input_data = np.array([[amount, transaction_time, customer_age, account_balance,\n",
        "                          num_transactions, is_online]])\n",
        "    prediction = model.predict(input_data)[0]\n",
        "    probability = model.predict_proba(input_data)[0][1]  # Probability of fraud\n",
        "    return \"Fraudulent\" if prediction == 1 else \"Legitimate\", probability\n",
        "\n",
        "# Test with your own values\n",
        "amount = float(input(\"Enter Transaction Amount ($): \"))\n",
        "transaction_time = float(input(\"Enter Transaction Time (hours, 0-24): \"))\n",
        "customer_age = int(input(\"Enter Customer Age: \"))\n",
        "account_balance = float(input(\"Enter Account Balance ($): \"))\n",
        "num_transactions = int(input(\"Enter Transactions in Last Hour: \"))\n",
        "is_online = int(input(\"Is Online Transaction? (0 for No, 1 for Yes): \"))\n",
        "\n",
        "result, prob = predict_fraud(amount, transaction_time, customer_age,\n",
        "                            account_balance, num_transactions, is_online)\n",
        "print(f\"Prediction: {result} (Fraud Probability: {prob:.2%})\")"
      ],
      "metadata": {
        "colab": {
          "base_uri": "https://localhost:8080/"
        },
        "id": "wu-DaC18HNYN",
        "outputId": "50558e42-9021-4e12-a44a-7576f68c7cf4"
      },
      "execution_count": null,
      "outputs": [
        {
          "output_type": "stream",
          "name": "stdout",
          "text": [
            "Enter Transaction Amount ($): 1000\n",
            "Enter Transaction Time (hours, 0-24): 10\n",
            "Enter Customer Age: 30\n",
            "Enter Account Balance ($): 500\n",
            "Enter Transactions in Last Hour: 5\n",
            "Is Online Transaction? (0 for No, 1 for Yes): 1\n",
            "Prediction: Legitimate (Fraud Probability: 2.00%)\n"
          ]
        },
        {
          "output_type": "stream",
          "name": "stderr",
          "text": [
            "/usr/local/lib/python3.11/dist-packages/sklearn/utils/validation.py:2739: UserWarning: X does not have valid feature names, but RandomForestClassifier was fitted with feature names\n",
            "  warnings.warn(\n",
            "/usr/local/lib/python3.11/dist-packages/sklearn/utils/validation.py:2739: UserWarning: X does not have valid feature names, but RandomForestClassifier was fitted with feature names\n",
            "  warnings.warn(\n"
          ]
        }
      ]
    },
    {
      "cell_type": "code",
      "source": [],
      "metadata": {
        "id": "0Crbf3qiFMEs"
      },
      "execution_count": null,
      "outputs": []
    }
  ]
}